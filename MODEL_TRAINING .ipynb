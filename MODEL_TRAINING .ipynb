{
 "cells": [
  {
   "cell_type": "markdown",
   "metadata": {},
   "source": [
    "# TRANING THE HAND WRITTEN DIGITS MODEL\n",
    "\n",
    "\n",
    "In This We Are Going To Train the Model Through 5000 Hand Written Digits\n",
    "Then We will be Implement On the Data given by The USER."
   ]
  },
  {
   "cell_type": "markdown",
   "metadata": {},
   "source": [
    "IMPORTING THE LIBRARIES\n"
   ]
  },
  {
   "cell_type": "code",
   "execution_count": 1,
   "metadata": {
    "colab": {
     "base_uri": "https://localhost:8080/",
     "height": 33
    },
    "colab_type": "code",
    "id": "33ubdGo5ZfgM",
    "outputId": "7a42834c-ba8a-48ff-b4c7-b890f93f97fb"
   },
   "outputs": [
    {
     "name": "stderr",
     "output_type": "stream",
     "text": [
      "Using TensorFlow backend.\n"
     ]
    }
   ],
   "source": [
    "import tensorflow as tf\n",
    "from keras.preprocessing.image import ImageDataGenerator\n",
    "import matplotlib.pyplot as plt\n",
    "import numpy  as np\n",
    "from skimage.transform import resize\n",
    "import pandas as pd\n",
    "from scipy.io import loadmat\n",
    "import matplotlib.image as mpimg"
   ]
  },
  {
   "cell_type": "code",
   "execution_count": 2,
   "metadata": {},
   "outputs": [],
   "source": [
    "# Use loadmat to load matlab files\n",
    "mat=loadmat(\"D:/User/Desktop/ex3data1.mat\")\n",
    "x=mat[\"X\"]\n",
    "y=mat[\"y\"]"
   ]
  },
  {
   "cell_type": "code",
   "execution_count": 3,
   "metadata": {},
   "outputs": [
    {
     "data": {
      "text/plain": [
       "(5000, 400)"
      ]
     },
     "execution_count": 3,
     "metadata": {},
     "output_type": "execute_result"
    }
   ],
   "source": [
    "x.shape"
   ]
  },
  {
   "cell_type": "code",
   "execution_count": 4,
   "metadata": {},
   "outputs": [
    {
     "data": {
      "text/plain": [
       "(400,)"
      ]
     },
     "execution_count": 4,
     "metadata": {},
     "output_type": "execute_result"
    }
   ],
   "source": [
    "x[0].shape"
   ]
  },
  {
   "cell_type": "markdown",
   "metadata": {},
   "source": [
    "There is a mistake in the data set that is 0 is represented s 10 in the y data set.\n",
    "So let's replace 10 with 0 in the data set."
   ]
  },
  {
   "cell_type": "code",
   "execution_count": 5,
   "metadata": {},
   "outputs": [],
   "source": [
    "y=pd.DataFrame(y).replace(to_replace=[10],value=[0])\n"
   ]
  },
  {
   "cell_type": "code",
   "execution_count": 6,
   "metadata": {},
   "outputs": [
    {
     "name": "stderr",
     "output_type": "stream",
     "text": [
      "C:\\Users\\SUDHANSHU\\Anaconda3\\lib\\site-packages\\sklearn\\preprocessing\\_encoders.py:415: FutureWarning: The handling of integer data will change in version 0.22. Currently, the categories are determined based on the range [0, max(values)], while in the future they will be determined based on the unique values.\n",
      "If you want the future behaviour and silence this warning, you can specify \"categories='auto'\".\n",
      "In case you used a LabelEncoder before this OneHotEncoder to convert the categories to integers, then you can now use the OneHotEncoder directly.\n",
      "  warnings.warn(msg, FutureWarning)\n"
     ]
    }
   ],
   "source": [
    "from sklearn.preprocessing import OneHotEncoder\n",
    "ohe=OneHotEncoder()\n",
    "\n",
    "y=ohe.fit_transform(y).toarray()"
   ]
  },
  {
   "cell_type": "markdown",
   "metadata": {},
   "source": [
    "# OUTPUT DATA"
   ]
  },
  {
   "cell_type": "code",
   "execution_count": 8,
   "metadata": {},
   "outputs": [
    {
     "data": {
      "text/html": [
       "<div>\n",
       "<style scoped>\n",
       "    .dataframe tbody tr th:only-of-type {\n",
       "        vertical-align: middle;\n",
       "    }\n",
       "\n",
       "    .dataframe tbody tr th {\n",
       "        vertical-align: top;\n",
       "    }\n",
       "\n",
       "    .dataframe thead th {\n",
       "        text-align: right;\n",
       "    }\n",
       "</style>\n",
       "<table border=\"1\" class=\"dataframe\">\n",
       "  <thead>\n",
       "    <tr style=\"text-align: right;\">\n",
       "      <th></th>\n",
       "      <th>0</th>\n",
       "      <th>1</th>\n",
       "      <th>2</th>\n",
       "      <th>3</th>\n",
       "      <th>4</th>\n",
       "      <th>5</th>\n",
       "      <th>6</th>\n",
       "      <th>7</th>\n",
       "      <th>8</th>\n",
       "      <th>9</th>\n",
       "    </tr>\n",
       "  </thead>\n",
       "  <tbody>\n",
       "    <tr>\n",
       "      <td>0</td>\n",
       "      <td>1.0</td>\n",
       "      <td>0.0</td>\n",
       "      <td>0.0</td>\n",
       "      <td>0.0</td>\n",
       "      <td>0.0</td>\n",
       "      <td>0.0</td>\n",
       "      <td>0.0</td>\n",
       "      <td>0.0</td>\n",
       "      <td>0.0</td>\n",
       "      <td>0.0</td>\n",
       "    </tr>\n",
       "    <tr>\n",
       "      <td>1</td>\n",
       "      <td>1.0</td>\n",
       "      <td>0.0</td>\n",
       "      <td>0.0</td>\n",
       "      <td>0.0</td>\n",
       "      <td>0.0</td>\n",
       "      <td>0.0</td>\n",
       "      <td>0.0</td>\n",
       "      <td>0.0</td>\n",
       "      <td>0.0</td>\n",
       "      <td>0.0</td>\n",
       "    </tr>\n",
       "    <tr>\n",
       "      <td>2</td>\n",
       "      <td>1.0</td>\n",
       "      <td>0.0</td>\n",
       "      <td>0.0</td>\n",
       "      <td>0.0</td>\n",
       "      <td>0.0</td>\n",
       "      <td>0.0</td>\n",
       "      <td>0.0</td>\n",
       "      <td>0.0</td>\n",
       "      <td>0.0</td>\n",
       "      <td>0.0</td>\n",
       "    </tr>\n",
       "    <tr>\n",
       "      <td>3</td>\n",
       "      <td>1.0</td>\n",
       "      <td>0.0</td>\n",
       "      <td>0.0</td>\n",
       "      <td>0.0</td>\n",
       "      <td>0.0</td>\n",
       "      <td>0.0</td>\n",
       "      <td>0.0</td>\n",
       "      <td>0.0</td>\n",
       "      <td>0.0</td>\n",
       "      <td>0.0</td>\n",
       "    </tr>\n",
       "    <tr>\n",
       "      <td>4</td>\n",
       "      <td>1.0</td>\n",
       "      <td>0.0</td>\n",
       "      <td>0.0</td>\n",
       "      <td>0.0</td>\n",
       "      <td>0.0</td>\n",
       "      <td>0.0</td>\n",
       "      <td>0.0</td>\n",
       "      <td>0.0</td>\n",
       "      <td>0.0</td>\n",
       "      <td>0.0</td>\n",
       "    </tr>\n",
       "    <tr>\n",
       "      <td>...</td>\n",
       "      <td>...</td>\n",
       "      <td>...</td>\n",
       "      <td>...</td>\n",
       "      <td>...</td>\n",
       "      <td>...</td>\n",
       "      <td>...</td>\n",
       "      <td>...</td>\n",
       "      <td>...</td>\n",
       "      <td>...</td>\n",
       "      <td>...</td>\n",
       "    </tr>\n",
       "    <tr>\n",
       "      <td>4995</td>\n",
       "      <td>0.0</td>\n",
       "      <td>0.0</td>\n",
       "      <td>0.0</td>\n",
       "      <td>0.0</td>\n",
       "      <td>0.0</td>\n",
       "      <td>0.0</td>\n",
       "      <td>0.0</td>\n",
       "      <td>0.0</td>\n",
       "      <td>0.0</td>\n",
       "      <td>1.0</td>\n",
       "    </tr>\n",
       "    <tr>\n",
       "      <td>4996</td>\n",
       "      <td>0.0</td>\n",
       "      <td>0.0</td>\n",
       "      <td>0.0</td>\n",
       "      <td>0.0</td>\n",
       "      <td>0.0</td>\n",
       "      <td>0.0</td>\n",
       "      <td>0.0</td>\n",
       "      <td>0.0</td>\n",
       "      <td>0.0</td>\n",
       "      <td>1.0</td>\n",
       "    </tr>\n",
       "    <tr>\n",
       "      <td>4997</td>\n",
       "      <td>0.0</td>\n",
       "      <td>0.0</td>\n",
       "      <td>0.0</td>\n",
       "      <td>0.0</td>\n",
       "      <td>0.0</td>\n",
       "      <td>0.0</td>\n",
       "      <td>0.0</td>\n",
       "      <td>0.0</td>\n",
       "      <td>0.0</td>\n",
       "      <td>1.0</td>\n",
       "    </tr>\n",
       "    <tr>\n",
       "      <td>4998</td>\n",
       "      <td>0.0</td>\n",
       "      <td>0.0</td>\n",
       "      <td>0.0</td>\n",
       "      <td>0.0</td>\n",
       "      <td>0.0</td>\n",
       "      <td>0.0</td>\n",
       "      <td>0.0</td>\n",
       "      <td>0.0</td>\n",
       "      <td>0.0</td>\n",
       "      <td>1.0</td>\n",
       "    </tr>\n",
       "    <tr>\n",
       "      <td>4999</td>\n",
       "      <td>0.0</td>\n",
       "      <td>0.0</td>\n",
       "      <td>0.0</td>\n",
       "      <td>0.0</td>\n",
       "      <td>0.0</td>\n",
       "      <td>0.0</td>\n",
       "      <td>0.0</td>\n",
       "      <td>0.0</td>\n",
       "      <td>0.0</td>\n",
       "      <td>1.0</td>\n",
       "    </tr>\n",
       "  </tbody>\n",
       "</table>\n",
       "<p>5000 rows × 10 columns</p>\n",
       "</div>"
      ],
      "text/plain": [
       "        0    1    2    3    4    5    6    7    8    9\n",
       "0     1.0  0.0  0.0  0.0  0.0  0.0  0.0  0.0  0.0  0.0\n",
       "1     1.0  0.0  0.0  0.0  0.0  0.0  0.0  0.0  0.0  0.0\n",
       "2     1.0  0.0  0.0  0.0  0.0  0.0  0.0  0.0  0.0  0.0\n",
       "3     1.0  0.0  0.0  0.0  0.0  0.0  0.0  0.0  0.0  0.0\n",
       "4     1.0  0.0  0.0  0.0  0.0  0.0  0.0  0.0  0.0  0.0\n",
       "...   ...  ...  ...  ...  ...  ...  ...  ...  ...  ...\n",
       "4995  0.0  0.0  0.0  0.0  0.0  0.0  0.0  0.0  0.0  1.0\n",
       "4996  0.0  0.0  0.0  0.0  0.0  0.0  0.0  0.0  0.0  1.0\n",
       "4997  0.0  0.0  0.0  0.0  0.0  0.0  0.0  0.0  0.0  1.0\n",
       "4998  0.0  0.0  0.0  0.0  0.0  0.0  0.0  0.0  0.0  1.0\n",
       "4999  0.0  0.0  0.0  0.0  0.0  0.0  0.0  0.0  0.0  1.0\n",
       "\n",
       "[5000 rows x 10 columns]"
      ]
     },
     "execution_count": 8,
     "metadata": {},
     "output_type": "execute_result"
    }
   ],
   "source": [
    "pd.DataFrame(y)"
   ]
  },
  {
   "cell_type": "code",
   "execution_count": 9,
   "metadata": {},
   "outputs": [],
   "source": [
    "from sklearn.model_selection import train_test_split\n",
    "x_train,x_test,y_train,y_test=train_test_split(x,y,test_size=0.2,random_state=1)"
   ]
  },
  {
   "cell_type": "code",
   "execution_count": 10,
   "metadata": {},
   "outputs": [
    {
     "data": {
      "text/plain": [
       "(4000, 400)"
      ]
     },
     "execution_count": 10,
     "metadata": {},
     "output_type": "execute_result"
    }
   ],
   "source": [
    "x_train.shape"
   ]
  },
  {
   "cell_type": "markdown",
   "metadata": {},
   "source": [
    "# DATA IS ALLREADY NORMALIZED."
   ]
  },
  {
   "cell_type": "code",
   "execution_count": 11,
   "metadata": {},
   "outputs": [],
   "source": [
    "#train_data=x_train.astype(float)/255\n",
    "#test_data=x_test.astype(float)/255"
   ]
  },
  {
   "cell_type": "markdown",
   "metadata": {},
   "source": [
    "Lets see how the *TRAIN DATA* Lookes like"
   ]
  },
  {
   "cell_type": "code",
   "execution_count": 14,
   "metadata": {},
   "outputs": [
    {
     "data": {
      "image/png": "[encoded data removed]",
      "text/plain": [
       "<Figure size 576x576 with 100 Axes>"
      ]
     },
     "metadata": {
      "needs_background": "light"
     },
     "output_type": "display_data"
    }
   ],
   "source": [
    "fig, axis = plt.subplots(10,10,figsize=(8,8))\n",
    "for i in range(10):\n",
    "    for j in range(10):\n",
    "        axis[i,j].imshow(x[np.random.randint(0,5001),:].reshape(20,20,order=\"F\"), cmap=\"hot\") #reshape back to 20 pixel by 20 pixel\n",
    "        axis[i,j].axis(\"off\")"
   ]
  },
  {
   "cell_type": "markdown",
   "metadata": {},
   "source": [
    "# CNN ARCHITECTURE "
   ]
  },
  {
   "cell_type": "code",
   "execution_count": 75,
   "metadata": {
    "colab": {},
    "colab_type": "code",
    "id": "ocnAicB7Z931"
   },
   "outputs": [],
   "source": [
    "cnn = tf.keras.models.Sequential()"
   ]
  },
  {
   "cell_type": "code",
   "execution_count": 76,
   "metadata": {
    "colab": {},
    "colab_type": "code",
    "id": "sLo7cdqsZ9x5"
   },
   "outputs": [],
   "source": [
    "cnn.add(tf.keras.layers.Conv2D(filters=32,kernel_size=3,activation='relu',input_shape=[20,20,1]))"
   ]
  },
  {
   "cell_type": "code",
   "execution_count": 77,
   "metadata": {},
   "outputs": [],
   "source": [
    "cnn.add(tf.keras.layers.MaxPool2D(strides=2,pool_size=2))"
   ]
  },
  {
   "cell_type": "code",
   "execution_count": 78,
   "metadata": {},
   "outputs": [],
   "source": [
    "cnn.add(tf.keras.layers.Conv2D(filters=32,kernel_size=3,activation='relu'))\n",
    "cnn.add(tf.keras.layers.MaxPool2D(strides=2,pool_size=2))"
   ]
  },
  {
   "cell_type": "code",
   "execution_count": 79,
   "metadata": {},
   "outputs": [],
   "source": [
    "cnn.add(tf.keras.layers.Flatten())"
   ]
  },
  {
   "cell_type": "code",
   "execution_count": 80,
   "metadata": {},
   "outputs": [],
   "source": [
    "cnn.add(tf.keras.layers.Dense(units=40, activation='relu'))"
   ]
  },
  {
   "cell_type": "code",
   "execution_count": 81,
   "metadata": {},
   "outputs": [],
   "source": [
    "cnn.add(tf.keras.layers.Dense(units=10, activation='softmax'))"
   ]
  },
  {
   "cell_type": "code",
   "execution_count": 82,
   "metadata": {},
   "outputs": [],
   "source": [
    "cnn.compile(optimizer = 'adam', loss = 'categorical_crossentropy', metrics = ['accuracy'])"
   ]
  },
  {
   "cell_type": "code",
   "execution_count": 83,
   "metadata": {
    "scrolled": true
   },
   "outputs": [
    {
     "name": "stdout",
     "output_type": "stream",
     "text": [
      "Train on 4000 samples, validate on 1000 samples\n",
      "Epoch 1/50\n",
      "4000/4000 [==============================] - 5s 1ms/sample - loss: 0.9767 - accuracy: 0.7190 - val_loss: 0.4025 - val_accuracy: 0.8690\n",
      "Epoch 2/50\n",
      "4000/4000 [==============================] - 3s 638us/sample - loss: 0.2790 - accuracy: 0.9197 - val_loss: 0.2596 - val_accuracy: 0.9150\n",
      "Epoch 3/50\n",
      "4000/4000 [==============================] - 3s 650us/sample - loss: 0.2001 - accuracy: 0.9405 - val_loss: 0.2327 - val_accuracy: 0.9260\n",
      "Epoch 4/50\n",
      "4000/4000 [==============================] - 2s 590us/sample - loss: 0.1561 - accuracy: 0.9560 - val_loss: 0.1999 - val_accuracy: 0.9340\n",
      "Epoch 5/50\n",
      "4000/4000 [==============================] - 3s 627us/sample - loss: 0.1359 - accuracy: 0.9597 - val_loss: 0.1760 - val_accuracy: 0.9480\n",
      "Epoch 6/50\n",
      "4000/4000 [==============================] - 3s 636us/sample - loss: 0.1059 - accuracy: 0.9688 - val_loss: 0.1876 - val_accuracy: 0.9450\n",
      "Epoch 7/50\n",
      "4000/4000 [==============================] - 3s 639us/sample - loss: 0.0877 - accuracy: 0.9732 - val_loss: 0.1739 - val_accuracy: 0.9430\n",
      "Epoch 8/50\n",
      "4000/4000 [==============================] - 3s 626us/sample - loss: 0.0768 - accuracy: 0.9785 - val_loss: 0.1968 - val_accuracy: 0.9470\n",
      "Epoch 9/50\n",
      "4000/4000 [==============================] - 3s 646us/sample - loss: 0.0751 - accuracy: 0.9765 - val_loss: 0.1718 - val_accuracy: 0.9490\n",
      "Epoch 10/50\n",
      "4000/4000 [==============================] - 3s 646us/sample - loss: 0.0637 - accuracy: 0.9808 - val_loss: 0.1397 - val_accuracy: 0.9590\n",
      "Epoch 11/50\n",
      "4000/4000 [==============================] - 3s 638us/sample - loss: 0.0538 - accuracy: 0.9837 - val_loss: 0.1671 - val_accuracy: 0.9540\n",
      "Epoch 12/50\n",
      "4000/4000 [==============================] - 3s 642us/sample - loss: 0.0430 - accuracy: 0.9885 - val_loss: 0.1395 - val_accuracy: 0.9600\n",
      "Epoch 13/50\n",
      "4000/4000 [==============================] - 3s 654us/sample - loss: 0.0420 - accuracy: 0.9868 - val_loss: 0.1412 - val_accuracy: 0.9610\n",
      "Epoch 14/50\n",
      "4000/4000 [==============================] - 3s 631us/sample - loss: 0.0353 - accuracy: 0.9885 - val_loss: 0.1513 - val_accuracy: 0.9530\n",
      "Epoch 15/50\n",
      "4000/4000 [==============================] - 3s 642us/sample - loss: 0.0371 - accuracy: 0.9893 - val_loss: 0.1742 - val_accuracy: 0.9490\n",
      "Epoch 16/50\n",
      "4000/4000 [==============================] - 3s 636us/sample - loss: 0.0317 - accuracy: 0.9915 - val_loss: 0.1517 - val_accuracy: 0.9590\n",
      "Epoch 17/50\n",
      "4000/4000 [==============================] - 2s 623us/sample - loss: 0.0211 - accuracy: 0.9937 - val_loss: 0.1482 - val_accuracy: 0.9590\n",
      "Epoch 18/50\n",
      "4000/4000 [==============================] - 2s 625us/sample - loss: 0.0170 - accuracy: 0.9967 - val_loss: 0.1511 - val_accuracy: 0.9570\n",
      "Epoch 19/50\n",
      "4000/4000 [==============================] - 3s 626us/sample - loss: 0.0226 - accuracy: 0.9930 - val_loss: 0.1578 - val_accuracy: 0.9590\n",
      "Epoch 20/50\n",
      "4000/4000 [==============================] - 3s 633us/sample - loss: 0.0192 - accuracy: 0.9937 - val_loss: 0.1745 - val_accuracy: 0.9550\n",
      "Epoch 21/50\n",
      "4000/4000 [==============================] - 3s 654us/sample - loss: 0.0112 - accuracy: 0.9977 - val_loss: 0.1459 - val_accuracy: 0.9620\n",
      "Epoch 22/50\n",
      "4000/4000 [==============================] - 3s 632us/sample - loss: 0.0093 - accuracy: 0.9975 - val_loss: 0.2018 - val_accuracy: 0.9510\n",
      "Epoch 23/50\n",
      "4000/4000 [==============================] - 3s 630us/sample - loss: 0.0052 - accuracy: 1.0000 - val_loss: 0.1657 - val_accuracy: 0.9620\n",
      "Epoch 24/50\n",
      "4000/4000 [==============================] - 3s 630us/sample - loss: 0.0046 - accuracy: 0.9987 - val_loss: 0.1512 - val_accuracy: 0.9640\n",
      "Epoch 25/50\n",
      "4000/4000 [==============================] - 3s 628us/sample - loss: 0.0028 - accuracy: 1.0000 - val_loss: 0.1582 - val_accuracy: 0.9580\n",
      "Epoch 26/50\n",
      "4000/4000 [==============================] - 3s 737us/sample - loss: 0.0036 - accuracy: 0.9995 - val_loss: 0.1597 - val_accuracy: 0.9590\n",
      "Epoch 27/50\n",
      "4000/4000 [==============================] - 2s 595us/sample - loss: 0.0203 - accuracy: 0.9945 - val_loss: 0.1797 - val_accuracy: 0.9570\n",
      "Epoch 28/50\n",
      "4000/4000 [==============================] - 2s 619us/sample - loss: 0.0120 - accuracy: 0.9960 - val_loss: 0.2145 - val_accuracy: 0.9530\n",
      "Epoch 29/50\n",
      "4000/4000 [==============================] - 3s 629us/sample - loss: 0.0107 - accuracy: 0.9965 - val_loss: 0.1586 - val_accuracy: 0.9600\n",
      "Epoch 30/50\n",
      "4000/4000 [==============================] - 3s 673us/sample - loss: 0.0074 - accuracy: 0.9980 - val_loss: 0.1760 - val_accuracy: 0.9590\n",
      "Epoch 31/50\n",
      "4000/4000 [==============================] - 3s 636us/sample - loss: 0.0035 - accuracy: 0.9995 - val_loss: 0.1532 - val_accuracy: 0.9640\n",
      "Epoch 32/50\n",
      "4000/4000 [==============================] - 3s 635us/sample - loss: 0.0011 - accuracy: 1.0000 - val_loss: 0.1619 - val_accuracy: 0.9660\n",
      "Epoch 33/50\n",
      "4000/4000 [==============================] - 3s 669us/sample - loss: 8.6571e-04 - accuracy: 1.0000 - val_loss: 0.1549 - val_accuracy: 0.9630\n",
      "Epoch 34/50\n",
      "4000/4000 [==============================] - 3s 644us/sample - loss: 6.8839e-04 - accuracy: 1.0000 - val_loss: 0.1543 - val_accuracy: 0.9620\n",
      "Epoch 35/50\n",
      "4000/4000 [==============================] - 3s 681us/sample - loss: 6.3008e-04 - accuracy: 1.0000 - val_loss: 0.1617 - val_accuracy: 0.9630\n",
      "Epoch 36/50\n",
      "4000/4000 [==============================] - 3s 674us/sample - loss: 5.0202e-04 - accuracy: 1.0000 - val_loss: 0.1619 - val_accuracy: 0.9660\n",
      "Epoch 37/50\n",
      "4000/4000 [==============================] - 3s 685us/sample - loss: 4.1439e-04 - accuracy: 1.0000 - val_loss: 0.1620 - val_accuracy: 0.9640\n",
      "Epoch 38/50\n",
      "4000/4000 [==============================] - 2s 565us/sample - loss: 3.5129e-04 - accuracy: 1.0000 - val_loss: 0.1615 - val_accuracy: 0.9620\n",
      "Epoch 39/50\n",
      "4000/4000 [==============================] - 3s 642us/sample - loss: 3.5361e-04 - accuracy: 1.0000 - val_loss: 0.1668 - val_accuracy: 0.9640\n",
      "Epoch 40/50\n",
      "4000/4000 [==============================] - 3s 678us/sample - loss: 3.3564e-04 - accuracy: 1.0000 - val_loss: 0.1680 - val_accuracy: 0.9650\n",
      "Epoch 41/50\n",
      "4000/4000 [==============================] - 3s 836us/sample - loss: 2.6787e-04 - accuracy: 1.0000 - val_loss: 0.1676 - val_accuracy: 0.9640\n",
      "Epoch 42/50\n",
      "4000/4000 [==============================] - 3s 830us/sample - loss: 2.4242e-04 - accuracy: 1.0000 - val_loss: 0.1699 - val_accuracy: 0.9640\n",
      "Epoch 43/50\n",
      "4000/4000 [==============================] - 2s 569us/sample - loss: 2.2030e-04 - accuracy: 1.0000 - val_loss: 0.1733 - val_accuracy: 0.9630\n",
      "Epoch 44/50\n",
      "4000/4000 [==============================] - 2s 600us/sample - loss: 2.0197e-04 - accuracy: 1.0000 - val_loss: 0.1737 - val_accuracy: 0.9630\n",
      "Epoch 45/50\n",
      "4000/4000 [==============================] - 2s 600us/sample - loss: 1.8293e-04 - accuracy: 1.0000 - val_loss: 0.1744 - val_accuracy: 0.9630\n",
      "Epoch 46/50\n",
      "4000/4000 [==============================] - 3s 633us/sample - loss: 1.8024e-04 - accuracy: 1.0000 - val_loss: 0.1797 - val_accuracy: 0.9650\n",
      "Epoch 47/50\n",
      "4000/4000 [==============================] - 2s 586us/sample - loss: 1.5700e-04 - accuracy: 1.0000 - val_loss: 0.1808 - val_accuracy: 0.9650\n",
      "Epoch 48/50\n",
      "4000/4000 [==============================] - 3s 659us/sample - loss: 1.4153e-04 - accuracy: 1.0000 - val_loss: 0.1801 - val_accuracy: 0.9630\n",
      "Epoch 49/50\n",
      "4000/4000 [==============================] - 3s 651us/sample - loss: 1.4375e-04 - accuracy: 1.0000 - val_loss: 0.1840 - val_accuracy: 0.9630\n",
      "Epoch 50/50\n",
      "4000/4000 [==============================] - 3s 630us/sample - loss: 1.2279e-04 - accuracy: 1.0000 - val_loss: 0.1872 - val_accuracy: 0.9640\n"
     ]
    },
    {
     "data": {
      "text/plain": [
       "<tensorflow.python.keras.callbacks.History at 0x13dd32abec8>"
      ]
     },
     "execution_count": 83,
     "metadata": {},
     "output_type": "execute_result"
    }
   ],
   "source": [
    "cnn.fit(x = x_train.reshape([-1,20,20,1],order='F'), y=y_train,validation_data =(x_test.reshape([-1,20,20,1],order='F'),y_test), epochs = 50,batch_size=25)"
   ]
  },
  {
   "cell_type": "markdown",
   "metadata": {},
   "source": [
    "# ACCURACY ON TEST SET: 96.4%"
   ]
  },
  {
   "cell_type": "code",
   "execution_count": 87,
   "metadata": {},
   "outputs": [],
   "source": [
    "##cnn.save('Hand_Written.h5',overwrite=False)"
   ]
  }
 ],
 "metadata": {
  "colab": {
   "collapsed_sections": [],
   "name": "Untitled7.ipynb",
   "provenance": []
  },
  "kernelspec": {
   "display_name": "Python 3",
   "language": "python",
   "name": "python3"
  },
  "language_info": {
   "codemirror_mode": {
    "name": "ipython",
    "version": 3
   },
   "file_extension": ".py",
   "mimetype": "text/x-python",
   "name": "python",
   "nbconvert_exporter": "python",
   "pygments_lexer": "ipython3",
   "version": "3.7.4"
  }
 },
 "nbformat": 4,
 "nbformat_minor": 1
}
